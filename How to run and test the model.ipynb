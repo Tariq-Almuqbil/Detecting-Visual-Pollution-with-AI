{
 "cells": [
  {
   "attachments": {},
   "cell_type": "markdown",
   "metadata": {},
   "source": [
    "# how to test the model\n",
    "\n",
    "**1. Unzipp the dataset folder and put it according to this path**\n",
    "\n",
    "```\n",
    "--| Tariq Almuqbil - Theam1 Submission - without dataset\n",
    "-----| yolov7\n",
    "-----| dataset      <--- unziped database\n",
    "--------| images\n",
    "--------| test.csv\n",
    "```\n"
   ]
  },
  {
   "attachments": {},
   "cell_type": "markdown",
   "metadata": {},
   "source": [
    "**2. Run these comandes  (windows)**"
   ]
  },
  {
   "cell_type": "code",
   "execution_count": null,
   "metadata": {},
   "outputs": [],
   "source": [
    "!pip install pandas\n",
    "!pip install torch==1.12.1 torchvision==0.13.1 torchaudio==0.12.1 --user\n",
    "!pip install numpy==1.24.1 --user"
   ]
  },
  {
   "cell_type": "code",
   "execution_count": 9,
   "metadata": {},
   "outputs": [],
   "source": [
    "import pandas as pd\n",
    "import os\n",
    "import shutil"
   ]
  },
  {
   "cell_type": "code",
   "execution_count": null,
   "metadata": {},
   "outputs": [],
   "source": [
    "thisPath=os.getcwd()\n",
    "test_dataset=pd.read_csv(thisPath+'\\\\dataset\\\\test.csv')\n",
    "\n",
    "outputPath=thisPath+\"\\\\dataset\\\\images\\\\output\"\n",
    "if not os.path.exists(outputPath):\n",
    "    os.mkdir(outputPath)\n",
    "\n",
    "\n",
    "for img_path in test_dataset.values:\n",
    "    \n",
    "    try:\n",
    "        shutil.move(thisPath+\"\\\\dataset\\\\images\\\\\"+img_path[0], outputPath)\n",
    "        print(img_path[0] + \" is moved\")\n",
    "    except:\n",
    "        print(img_path[0] + \" is missing\")  "
   ]
  },
  {
   "cell_type": "code",
   "execution_count": null,
   "metadata": {},
   "outputs": [],
   "source": [
    "%cd yolov7\n",
    "!python detect.py --weights runs/train/exp/weights/best.pt --conf 0.1 --source ../dataset/images/output --save-txt --device cpu"
   ]
  },
  {
   "attachments": {},
   "cell_type": "markdown",
   "metadata": {},
   "source": [
    "**3. The results will be in this path:**\n",
    "```\n",
    "yolov7\\runs\\detect\\exp\n",
    "```"
   ]
  }
 ],
 "metadata": {
  "kernelspec": {
   "display_name": "Python 3",
   "language": "python",
   "name": "python3"
  },
  "language_info": {
   "codemirror_mode": {
    "name": "ipython",
    "version": 3
   },
   "file_extension": ".py",
   "mimetype": "text/x-python",
   "name": "python",
   "nbconvert_exporter": "python",
   "pygments_lexer": "ipython3",
   "version": "3.10.5 (tags/v3.10.5:f377153, Jun  6 2022, 16:14:13) [MSC v.1929 64 bit (AMD64)]"
  },
  "orig_nbformat": 4,
  "vscode": {
   "interpreter": {
    "hash": "c40d338bb4abcb40e3d3336bd579caf8dea29c503cf118db41ad6ab93ba95ca3"
   }
  }
 },
 "nbformat": 4,
 "nbformat_minor": 2
}
